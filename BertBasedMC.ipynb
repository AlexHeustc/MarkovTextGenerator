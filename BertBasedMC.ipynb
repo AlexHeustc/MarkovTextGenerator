{
 "cells": [
  {
   "cell_type": "code",
   "execution_count": 1,
   "metadata": {},
   "outputs": [],
   "source": [
    "import torch\n",
    "from transformers import BertTokenizer, BertModel\n",
    "import numpy as np\n",
    "from Utility import *\n",
    "from typing import List, Union, Tuple\n",
    "from collections import defaultdict\n",
    "from MarkovChain import MarkovChain"
   ]
  },
  {
   "cell_type": "code",
   "execution_count": 2,
   "metadata": {},
   "outputs": [
    {
     "name": "stdout",
     "output_type": "stream",
     "text": [
      "[('<unk>', 0), ('the', 1), ('i', 2), ('and', 3), ('of', 4), ('a', 5), ('to', 6), ('was', 7), ('in', 8), ('that', 9)]\n"
     ]
    }
   ],
   "source": [
    "\n",
    "# 1. 数据预处理相关函数\n",
    "lines = read_time_machine()\n",
    "tokens = tokenize(lines)\n",
    "vocab = Vocab(tokens)\n",
    "print(list(vocab.token_to_idx.items())[:10])"
   ]
  },
  {
   "cell_type": "code",
   "execution_count": 2,
   "metadata": {},
   "outputs": [
    {
     "name": "stderr",
     "output_type": "stream",
     "text": [
      "/home/hexiaoyue/.conda/envs/pytorch/lib/python3.11/site-packages/huggingface_hub/file_download.py:1150: FutureWarning: `resume_download` is deprecated and will be removed in version 1.0.0. Downloads always resume when possible. If you want to force a new download, use `force_download=True`.\n",
      "  warnings.warn(\n"
     ]
    },
    {
     "data": {
      "text/plain": [
       "BertModel(\n",
       "  (embeddings): BertEmbeddings(\n",
       "    (word_embeddings): Embedding(30522, 768, padding_idx=0)\n",
       "    (position_embeddings): Embedding(512, 768)\n",
       "    (token_type_embeddings): Embedding(2, 768)\n",
       "    (LayerNorm): LayerNorm((768,), eps=1e-12, elementwise_affine=True)\n",
       "    (dropout): Dropout(p=0.1, inplace=False)\n",
       "  )\n",
       "  (encoder): BertEncoder(\n",
       "    (layer): ModuleList(\n",
       "      (0-11): 12 x BertLayer(\n",
       "        (attention): BertAttention(\n",
       "          (self): BertSelfAttention(\n",
       "            (query): Linear(in_features=768, out_features=768, bias=True)\n",
       "            (key): Linear(in_features=768, out_features=768, bias=True)\n",
       "            (value): Linear(in_features=768, out_features=768, bias=True)\n",
       "            (dropout): Dropout(p=0.1, inplace=False)\n",
       "          )\n",
       "          (output): BertSelfOutput(\n",
       "            (dense): Linear(in_features=768, out_features=768, bias=True)\n",
       "            (LayerNorm): LayerNorm((768,), eps=1e-12, elementwise_affine=True)\n",
       "            (dropout): Dropout(p=0.1, inplace=False)\n",
       "          )\n",
       "        )\n",
       "        (intermediate): BertIntermediate(\n",
       "          (dense): Linear(in_features=768, out_features=3072, bias=True)\n",
       "          (intermediate_act_fn): GELUActivation()\n",
       "        )\n",
       "        (output): BertOutput(\n",
       "          (dense): Linear(in_features=3072, out_features=768, bias=True)\n",
       "          (LayerNorm): LayerNorm((768,), eps=1e-12, elementwise_affine=True)\n",
       "          (dropout): Dropout(p=0.1, inplace=False)\n",
       "        )\n",
       "      )\n",
       "    )\n",
       "  )\n",
       "  (pooler): BertPooler(\n",
       "    (dense): Linear(in_features=768, out_features=768, bias=True)\n",
       "    (activation): Tanh()\n",
       "  )\n",
       ")"
      ]
     },
     "execution_count": 2,
     "metadata": {},
     "output_type": "execute_result"
    }
   ],
   "source": [
    "# 2. BERT模型加载与配置\n",
    "tokenizer = BertTokenizer.from_pretrained('bert-base-uncased')  # 加载BERT对应的词表等\n",
    "bert_model = BertModel.from_pretrained('bert-base-uncased')  # 加载预训练BERT模型\n",
    "bert_model.eval()  # 设置为评估模式，因为只是用它提取特征，不训练"
   ]
  },
  {
   "cell_type": "code",
   "execution_count": 6,
   "metadata": {},
   "outputs": [],
   "source": [
    "BEGIN = \"___BEGIN__\"\n",
    "END = \"___END__\""
   ]
  },
  {
   "cell_type": "code",
   "execution_count": 17,
   "metadata": {},
   "outputs": [
    {
     "name": "stdout",
     "output_type": "stream",
     "text": [
      "['___BEGIN__', '___BEGIN__', '___BEGIN__', '___BEGIN__', 'the', 'bird', 'flies']\n"
     ]
    }
   ],
   "source": [
    "# 示例数据，这里简单模拟了一些单词组成的序列，实际应用中可以从文件读取文本并进行分词等处理来获取更丰富的数据\n",
    "data = [[\"the\", \"cat\", \"runs\", \"quickly\"],[ \"the\", \"dog\", \"walks\", \"slowly\"],[\"the\", \"bird\", \"flies\", \"high\"]]\n",
    "# 创建马尔可夫链模型实例，设置阶数为2\n",
    "markov_chain = MarkovChain(7, data)\n",
    "\n",
    "# 使用模型生成一个长度为5的新序列，不指定起始状态（将随机选择起始状态）\n",
    "generated_sequence = markov_chain.generate(6)\n",
    "print(generated_sequence)"
   ]
  },
  {
   "cell_type": "code",
   "execution_count": 21,
   "metadata": {},
   "outputs": [
    {
     "ename": "ValueError",
     "evalue": "The truth value of an array with more than one element is ambiguous. Use a.any() or a.all()",
     "output_type": "error",
     "traceback": [
      "\u001b[0;31m---------------------------------------------------------------------------\u001b[0m",
      "\u001b[0;31mValueError\u001b[0m                                Traceback (most recent call last)",
      "Cell \u001b[0;32mIn[21], line 37\u001b[0m\n\u001b[1;32m     34\u001b[0m markov_chain \u001b[38;5;241m=\u001b[39m MarkovChain(\u001b[38;5;241m2\u001b[39m, train_data)\n\u001b[1;32m     36\u001b[0m \u001b[38;5;66;03m# 生成并润色文本\u001b[39;00m\n\u001b[0;32m---> 37\u001b[0m generated_text \u001b[38;5;241m=\u001b[39m generate_and_rerank(\u001b[38;5;241m2\u001b[39m, markov_chain)\n\u001b[1;32m     38\u001b[0m \u001b[38;5;28mprint\u001b[39m(generated_text)\n",
      "Cell \u001b[0;32mIn[21], line 28\u001b[0m, in \u001b[0;36mgenerate_and_rerank\u001b[0;34m(length, markov_chain)\u001b[0m\n\u001b[1;32m     25\u001b[0m     text \u001b[38;5;241m=\u001b[39m markov_chain\u001b[38;5;241m.\u001b[39mgenerate(length)\n\u001b[1;32m     26\u001b[0m     generated_texts\u001b[38;5;241m.\u001b[39mappend(\u001b[38;5;124m'\u001b[39m\u001b[38;5;124m \u001b[39m\u001b[38;5;124m'\u001b[39m\u001b[38;5;241m.\u001b[39mjoin(text))\n\u001b[0;32m---> 28\u001b[0m reranked_text \u001b[38;5;241m=\u001b[39m rerank_texts_using_bert(generated_texts)[\u001b[38;5;241m0\u001b[39m]\n\u001b[1;32m     29\u001b[0m \u001b[38;5;28;01mreturn\u001b[39;00m reranked_text\n",
      "Cell \u001b[0;32mIn[21], line 15\u001b[0m, in \u001b[0;36mrerank_texts_using_bert\u001b[0;34m(texts)\u001b[0m\n\u001b[1;32m     12\u001b[0m         text_feature \u001b[38;5;241m=\u001b[39m outputs\u001b[38;5;241m.\u001b[39mlast_hidden_state\u001b[38;5;241m.\u001b[39msqueeze(\u001b[38;5;241m0\u001b[39m)\u001b[38;5;241m.\u001b[39mmean(dim\u001b[38;5;241m=\u001b[39m\u001b[38;5;241m0\u001b[39m)\u001b[38;5;241m.\u001b[39mnumpy()\n\u001b[1;32m     13\u001b[0m         scores\u001b[38;5;241m.\u001b[39mappend(text_feature)\n\u001b[0;32m---> 15\u001b[0m sorted_indices \u001b[38;5;241m=\u001b[39m \u001b[38;5;28msorted\u001b[39m(\u001b[38;5;28mrange\u001b[39m(\u001b[38;5;28mlen\u001b[39m(scores)), key\u001b[38;5;241m=\u001b[39m\u001b[38;5;28;01mlambda\u001b[39;00m k: scores[k], reverse\u001b[38;5;241m=\u001b[39m\u001b[38;5;28;01mTrue\u001b[39;00m)\n\u001b[1;32m     16\u001b[0m \u001b[38;5;28;01mreturn\u001b[39;00m [texts[i] \u001b[38;5;28;01mfor\u001b[39;00m i \u001b[38;5;129;01min\u001b[39;00m sorted_indices]\n",
      "\u001b[0;31mValueError\u001b[0m: The truth value of an array with more than one element is ambiguous. Use a.any() or a.all()"
     ]
    }
   ],
   "source": [
    "def rerank_texts_using_bert(texts: List[str]) -> List[str]:\n",
    "    \"\"\"\n",
    "    使用BERT模型对输入的文本进行打分，根据得分重新排序\n",
    "    \"\"\"\n",
    "    scores = []\n",
    "    with torch.no_grad():\n",
    "        for text in texts:\n",
    "            tokenized_text = tokenizer.tokenize(text)\n",
    "            input_ids = tokenizer.convert_tokens_to_ids(tokenized_text)\n",
    "            outputs = bert_model(torch.tensor([input_ids]))\n",
    "            # 可以使用最后一层隐藏状态的平均值等方式来获取文本的特征表示\n",
    "            text_feature = outputs.last_hidden_state.squeeze(0).mean(dim=0).numpy()\n",
    "            scores.append(text_feature)\n",
    "\n",
    "    sorted_indices = sorted(range(len(scores)), key=lambda k: scores[k], reverse=True)\n",
    "    return [texts[i] for i in sorted_indices]\n",
    "\n",
    "\n",
    "def generate_and_rerank(length: int, markov_chain: MarkovChain) -> str:\n",
    "    \"\"\"\n",
    "    先使用马尔科夫链生成文本，再用BERT模型润色\n",
    "    \"\"\"\n",
    "    generated_texts = []\n",
    "    for _ in range(5):  # 生成多个文本，从中选优\n",
    "        text = markov_chain.generate(length)\n",
    "        generated_texts.append(' '.join(text))\n",
    "\n",
    "    reranked_text = rerank_texts_using_bert(generated_texts)[0]\n",
    "    return reranked_text\n",
    "\n",
    "\n",
    "# 假设的训练数据\n",
    "train_data = [[\"I\", \"love\", \"reading\", \"books\"], [\"She\", \"likes\", \"to\", \"play\", \"football\"], [\"They\", \"enjoy\", \"watching\", \"movies\"]]\n",
    "markov_chain = MarkovChain(2, train_data)\n",
    "\n",
    "# 生成并润色文本\n",
    "generated_text = generate_and_rerank(2, markov_chain)\n",
    "print(generated_text)"
   ]
  },
  {
   "cell_type": "code",
   "execution_count": null,
   "metadata": {},
   "outputs": [],
   "source": []
  }
 ],
 "metadata": {
  "kernelspec": {
   "display_name": "Python 3",
   "language": "python",
   "name": "python3"
  },
  "language_info": {
   "codemirror_mode": {
    "name": "ipython",
    "version": 3
   },
   "file_extension": ".py",
   "mimetype": "text/x-python",
   "name": "python",
   "nbconvert_exporter": "python",
   "pygments_lexer": "ipython3",
   "version": "3.11.5"
  }
 },
 "nbformat": 4,
 "nbformat_minor": 2
}
